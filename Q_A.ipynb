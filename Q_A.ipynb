{
 "cells": [
  {
   "cell_type": "markdown",
   "id": "f726658d-3c0d-4141-93fd-3fdcd4b5223f",
   "metadata": {},
   "source": [
    "# Question Answering Examples on SQuAD\n",
    "\n",
    "Based on the script [`run_qa.py`](https://github.com/huggingface/transformers/blob/main/examples/pytorch/question-answering/run_qa.py).\n",
    "\n",
    "**Note:** This script only works with models that have a fast tokenizer (backed by the 🤗 Tokenizers library) as it\n",
    "uses special features of those tokenizers. You can check if your favorite model has a fast tokenizer in\n",
    "[this table](https://huggingface.co/transformers/index.html#supported-frameworks).\n",
    "\n",
    "`run_qa.py` allows you to fine-tune any supported model on the SQUAD dataset or another question-answering dataset of the `datasets` library or your own csv/jsonlines files as long as they are structured the same way as SQUAD. You might need to tweak the data processing inside the script if your data is structured differently.\n",
    "\n",
    "Note that if your dataset contains samples with no possible answers (like SQUAD version 2), you need to pass along the flag `--version_2_with_negative`."
   ]
  },
  {
   "cell_type": "markdown",
   "id": "08d1a9c5-6483-4b24-a1f4-4ae298c9b500",
   "metadata": {},
   "source": [
    "### Grab the datasets library and Model-References"
   ]
  },
  {
   "cell_type": "code",
   "execution_count": null,
   "id": "7796b7ab-7f93-4314-86f6-66c9ac2a2f6a",
   "metadata": {},
   "outputs": [],
   "source": [
    "%cd ~/Gaudi-tutorials/PyTorch/Single_card_tutorials\n",
    "!git clone https://github.com/HabanaAI/Model-References.git"
   ]
  },
  {
   "cell_type": "markdown",
   "id": "25fddd06-6fb6-4454-b8d9-3245e88fbd07",
   "metadata": {},
   "source": [
    "### Clone the Optimum-Habana project and check out 1.11.1 release. This repository gives access to the examples that are optimized for Intel Gaudi:"
   ]
  },
  {
   "cell_type": "code",
   "execution_count": null,
   "id": "74bde88b-70ae-4b11-b12b-95864bd5ce3e",
   "metadata": {},
   "outputs": [],
   "source": [
    "%cd ~/Gaudi-tutorials/PyTorch/Single_card_tutorials\n",
    "!git clone -b v1.11.1 https://github.com/huggingface/optimum-habana.git"
   ]
  },
  {
   "cell_type": "markdown",
   "id": "075e1c51-3322-425d-9373-69e942dffb0d",
   "metadata": {},
   "source": [
    "### Install Optimum-Habana library. This will install the library that works with this example:"
   ]
  },
  {
   "cell_type": "code",
   "execution_count": null,
   "id": "a2be2a39-8335-4781-8723-c4aa4139e18f",
   "metadata": {},
   "outputs": [],
   "source": [
    "import sys\n",
    "!{sys.executable} -m pip install optimum-habana==1.11.1"
   ]
  },
  {
   "cell_type": "markdown",
   "id": "afc6bd8c-8bd8-4bfc-a4b2-8b9ce0e0ac3f",
   "metadata": {},
   "source": [
    "### The following example is based on the Optimum-Habana Q&A example. Change to the question-answering directory and install the additional software requirements for this specific example:"
   ]
  },
  {
   "cell_type": "code",
   "execution_count": null,
   "id": "b9e5a378-0ddd-476f-a24e-4fcf7abd8370",
   "metadata": {},
   "outputs": [],
   "source": [
    "%cd ~/Gaudi-tutorials/PyTorch/Single_card_tutorials/optimum-habana/examples/question-answering/\n",
    "!{sys.executable} -m pip install --quiet -r requirements.txt"
   ]
  },
  {
   "cell_type": "markdown",
   "id": "6d1e12b6-9503-4104-82e2-cdecbe361492",
   "metadata": {},
   "source": [
    "### All of this so you don't have to type your home directory name :("
   ]
  },
  {
   "cell_type": "code",
   "execution_count": 9,
   "id": "03a55c2a-019e-4743-889a-cb110962ae28",
   "metadata": {},
   "outputs": [
    {
     "name": "stdout",
     "output_type": "stream",
     "text": [
      "Home directory name: uf5476f2787b2d9fde60f1fac6eeb06f\n",
      "Changed directory to: /home/uf5476f2787b2d9fde60f1fac6eeb06f/Gaudi-tutorials/PyTorch/Single_card_tutorials/optimum-habana/examples/question-answering/\n"
     ]
    }
   ],
   "source": [
    "import os\n",
    "\n",
    "def get_home_directory_name():\n",
    "    \"\"\"\n",
    "    Determines the name of the user's home directory.\n",
    "\n",
    "    Returns:\n",
    "    str: The name of the user's home directory.\n",
    "    \"\"\"\n",
    "    try:\n",
    "        home_directory_path = os.path.expanduser(\"~\")\n",
    "        home_directory_name = os.path.basename(home_directory_path)\n",
    "        return home_directory_name\n",
    "    except Exception as e:\n",
    "        print(f\"An unexpected error occurred: {e}\")\n",
    "        return None\n",
    "\n",
    "def change_to_directory(path):\n",
    "    \"\"\"\n",
    "    Changes the current working directory to the given path.\n",
    "\n",
    "    Parameters:\n",
    "    path (str): The path to change the current working directory to.\n",
    "\n",
    "    Returns:\n",
    "    None\n",
    "    \"\"\"\n",
    "    try:\n",
    "        os.chdir(path)\n",
    "        print(f\"Changed directory to: {path}\")\n",
    "    except FileNotFoundError:\n",
    "        print(f\"Error: The directory {path} does not exist.\")\n",
    "    except PermissionError:\n",
    "        print(f\"Error: Permission denied to change to directory {path}.\")\n",
    "    except Exception as e:\n",
    "        print(f\"An unexpected error occurred: {e}\")\n",
    "\n",
    "# Example usage\n",
    "if __name__ == \"__main__\":\n",
    "    home_directory_name = get_home_directory_name()\n",
    "    if home_directory_name:\n",
    "        print(f\"Home directory name: {home_directory_name}\")\n",
    "        \n",
    "        # Construct the full path to the home directory\n",
    "        home_directory_path = os.path.expanduser(\"~\")\n",
    "        \n",
    "        # Specified path to append to the home directory\n",
    "        specified_path = \"Gaudi-tutorials/PyTorch/Single_card_tutorials/optimum-habana/examples/question-answering/\"\n",
    "        \n",
    "        # Construct the full path to the specified directory\n",
    "        full_specified_path = os.path.join(home_directory_path, specified_path)\n",
    "        \n",
    "        # Change to the specified directory\n",
    "        change_to_directory(full_specified_path)\n",
    "    else:\n",
    "        print(\"Failed to determine the home directory name.\")"
   ]
  },
  {
   "cell_type": "code",
   "execution_count": 10,
   "id": "91b9b66a-0e1c-4b9c-b7b0-00fcfe8965ad",
   "metadata": {},
   "outputs": [
    {
     "name": "stdout",
     "output_type": "stream",
     "text": [
      "/home/uf5476f2787b2d9fde60f1fac6eeb06f/Gaudi-tutorials/PyTorch/Single_card_tutorials/optimum-habana/examples/question-answering\n"
     ]
    }
   ],
   "source": [
    "print(os.getcwd())"
   ]
  },
  {
   "cell_type": "markdown",
   "id": "ddcb6e4c-8345-4953-a2e3-159703822c57",
   "metadata": {},
   "source": [
    "### Execute Fine-Tuning of Bert using the SQuAD Dataset.  \n",
    "\n",
    "Bert is actually trained on wikipedia.  This will enhance it to be familiar with the Stanford Q&A dataset.\n"
   ]
  },
  {
   "cell_type": "code",
   "execution_count": null,
   "id": "a40c8b79-59ec-4489-b628-9b94a2613768",
   "metadata": {},
   "outputs": [],
   "source": [
    "%run run_qa.py \\\n",
    "  --model_name_or_path bert-large-uncased-whole-word-masking \\\n",
    "  --gaudi_config_name Habana/bert-large-uncased-whole-word-masking \\\n",
    "  --dataset_name squad \\\n",
    "  --do_train \\\n",
    "  --do_eval \\\n",
    "  --per_device_train_batch_size 24 \\\n",
    "  --per_device_eval_batch_size 8 \\\n",
    "  --learning_rate 3e-5 \\\n",
    "  --num_train_epochs 2 \\\n",
    "  --max_seq_length 384 \\\n",
    "  --doc_stride 128 \\\n",
    "  --output_dir ~/Gaudi-tutorials/PyTorch/Single_card_tutorials/squad \\\n",
    "  --use_habana \\\n",
    "  --use_lazy_mode \\\n",
    "  --use_hpu_graphs_for_inference \\\n",
    "  --throughput_warmup_steps 3 \\\n",
    "  --bf16"
   ]
  },
  {
   "cell_type": "markdown",
   "id": "b2e8a9e7-cd34-411e-9a75-f63aee8bed95",
   "metadata": {},
   "source": [
    "### Inference Example Run\n",
    "\n",
    "For some reason I need to set the run from directory again."
   ]
  },
  {
   "cell_type": "code",
   "execution_count": 11,
   "id": "0779936e-784c-4376-9f14-f147cd97f88d",
   "metadata": {},
   "outputs": [
    {
     "name": "stdout",
     "output_type": "stream",
     "text": [
      "Home directory name: uf5476f2787b2d9fde60f1fac6eeb06f\n",
      "Changed directory to: /home/uf5476f2787b2d9fde60f1fac6eeb06f/Gaudi-tutorials/PyTorch/Single_card_tutorials/optimum-habana/examples/question-answering/\n"
     ]
    }
   ],
   "source": [
    "# Example usage\n",
    "if __name__ == \"__main__\":\n",
    "    home_directory_name = get_home_directory_name()\n",
    "    if home_directory_name:\n",
    "        print(f\"Home directory name: {home_directory_name}\")\n",
    "        \n",
    "        # Construct the full path to the home directory\n",
    "        home_directory_path = os.path.expanduser(\"~\")\n",
    "        \n",
    "        # Specified path to append to the home directory\n",
    "        specified_path = \"Gaudi-tutorials/PyTorch/Single_card_tutorials/optimum-habana/examples/question-answering/\"\n",
    "        \n",
    "        # Construct the full path to the specified directory\n",
    "        full_specified_path = os.path.join(home_directory_path, specified_path)\n",
    "        \n",
    "        # Change to the specified directory\n",
    "        change_to_directory(full_specified_path)\n",
    "    else:\n",
    "        print(\"Failed to determine the home directory name.\")"
   ]
  },
  {
   "cell_type": "code",
   "execution_count": null,
   "id": "2c16e4b4-1874-4af4-ac06-f7c336e6cf65",
   "metadata": {},
   "outputs": [],
   "source": [
    "print(os.getcwd())"
   ]
  },
  {
   "cell_type": "code",
   "execution_count": null,
   "id": "bf502231-587a-49c6-bbf2-dfbc82941eb1",
   "metadata": {},
   "outputs": [],
   "source": [
    "cmd = f'python3 run_qa.py \\\n",
    "  --model_name_or_path bert-large-uncased-whole-word-masking \\\n",
    "  --gaudi_config_name Habana/bert-large-uncased-whole-word-masking \\\n",
    "  --dataset_name squad \\\n",
    "  --do_eval \\\n",
    "  --per_device_eval_batch_size 8 \\\n",
    "  --max_seq_length 384 \\\n",
    "  --doc_stride 128 \\\n",
    "  --output_dir /home/uf5476f2787b2d9fde60f1fac6eeb06f/Gaudi-tutorials/PyTorch/Single_card_tutorials/squad_infer_results \\\n",
    "  --use_habana \\\n",
    "  --use_lazy_mode \\\n",
    "  --use_hpu_graphs_for_inference \\\n",
    "  --bf16 '"
   ]
  },
  {
   "cell_type": "markdown",
   "id": "88f55491-265c-4e36-962a-feadb455e535",
   "metadata": {},
   "source": [
    "### The Below executes the Inference setup with the above parameters.\n",
    "\n",
    "The --output_dir has the best model results"
   ]
  },
  {
   "cell_type": "code",
   "execution_count": null,
   "id": "a92a8d58-78e6-4cc1-b301-b7bec7c6a2cc",
   "metadata": {},
   "outputs": [],
   "source": [
    "print(cmd)\n",
    "import os\n",
    "os.system(cmd)"
   ]
  },
  {
   "cell_type": "code",
   "execution_count": null,
   "id": "0a38e23a-ccf1-44eb-964a-a5df80fdcdb0",
   "metadata": {},
   "outputs": [],
   "source": []
  }
 ],
 "metadata": {
  "kernelspec": {
   "display_name": "Python 3 (ipykernel)",
   "language": "python",
   "name": "python3"
  },
  "language_info": {
   "codemirror_mode": {
    "name": "ipython",
    "version": 3
   },
   "file_extension": ".py",
   "mimetype": "text/x-python",
   "name": "python",
   "nbconvert_exporter": "python",
   "pygments_lexer": "ipython3",
   "version": "3.10.12"
  }
 },
 "nbformat": 4,
 "nbformat_minor": 5
}
